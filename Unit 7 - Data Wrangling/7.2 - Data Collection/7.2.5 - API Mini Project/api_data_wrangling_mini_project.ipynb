{
 "cells": [
  {
   "cell_type": "markdown",
   "metadata": {},
   "source": [
    "This exercise will require you to pull some data from https://data.nasdaq.com/ (formerly Quandl API)."
   ]
  },
  {
   "cell_type": "markdown",
   "metadata": {},
   "source": [
    "As a first step, you will need to register a free account on the https://data.nasdaq.com/ website."
   ]
  },
  {
   "cell_type": "markdown",
   "metadata": {},
   "source": [
    "After you register, you will be provided with a unique API key, that you should store:\n",
    "\n",
    "*Note*: Use a `.env` file and put your key in there and `python-dotenv` to access it in this notebook. \n",
    "\n",
    "The code below uses a key that was used when generating this project but has since been deleted. Never submit your keys to source control. There is a `.env-example` file in this repository to illusrtate what you need. Copy that to a file called `.env` and use your own api key in that `.env` file. Make sure you also have a `.gitignore` file with a line for `.env` added to it. \n",
    "\n",
    "The standard Python gitignore is [here](https://github.com/github/gitignore/blob/master/Python.gitignore) you can just copy that. "
   ]
  },
  {
   "cell_type": "code",
   "execution_count": 1,
   "metadata": {},
   "outputs": [
    {
     "name": "stdout",
     "output_type": "stream",
     "text": [
      "ac6Kh7uMxcbvQPMcmwzZ\n"
     ]
    }
   ],
   "source": [
    "# get api key from your .env file\n",
    "import os\n",
    "from dotenv import load_dotenv\n",
    "\n",
    "load_dotenv()\n",
    "API_KEY = os.getenv('NASDAQ_API_KEY')\n",
    "\n",
    "print(API_KEY)"
   ]
  },
  {
   "cell_type": "markdown",
   "metadata": {},
   "source": [
    "Nasdaq Data has a large number of data sources, but, unfortunately, most of them require a Premium subscription. Still, there are also a good number of free datasets."
   ]
  },
  {
   "cell_type": "markdown",
   "metadata": {},
   "source": [
    "For this mini project, we will focus on equities data from the Frankfurt Stock Exhange (FSE), which is available for free. We'll try and analyze the stock prices of a company called Carl Zeiss Meditec, which manufactures tools for eye examinations, as well as medical lasers for laser eye surgery: https://www.zeiss.com/meditec/int/home.html. The company is listed under the stock ticker AFX_X."
   ]
  },
  {
   "cell_type": "markdown",
   "metadata": {},
   "source": [
    "You can find the detailed Nasdaq Data API instructions here: https://docs.data.nasdaq.com/docs/in-depth-usage"
   ]
  },
  {
   "cell_type": "markdown",
   "metadata": {},
   "source": [
    "While there is a dedicated Python package for connecting to the Nasdaq API, we would prefer that you use the *requests* package, which can be easily downloaded using *pip* or *conda*. You can find the documentation for the package here: http://docs.python-requests.org/en/master/ "
   ]
  },
  {
   "cell_type": "markdown",
   "metadata": {},
   "source": [
    "Finally, apart from the *requests* package, you are encouraged to not use any third party Python packages, such as *pandas*, and instead focus on what's available in the Python Standard Library (the *collections* module might come in handy: https://pymotw.com/3/collections/).\n",
    "Also, since you won't have access to DataFrames, you are encouraged to us Python's native data structures - preferably dictionaries, though some questions can also be answered using lists.\n",
    "You can read more on these data structures here: https://docs.python.org/3/tutorial/datastructures.html"
   ]
  },
  {
   "cell_type": "markdown",
   "metadata": {},
   "source": [
    "Keep in mind that the JSON responses you will be getting from the API map almost one-to-one to Python's dictionaries. Unfortunately, they can be very nested, so make sure you read up on indexing dictionaries in the documentation provided above."
   ]
  },
  {
   "cell_type": "code",
   "execution_count": 2,
   "metadata": {},
   "outputs": [],
   "source": [
    "# First, import the relevant modules\n",
    "import requests \n",
    "import statistics \n",
    "import json \n",
    "\n"
   ]
  },
  {
   "cell_type": "markdown",
   "metadata": {},
   "source": [
    "Note: API's can change a bit with each version, for this exercise it is reccomended to use the nasdaq api at `https://data.nasdaq.com/api/v3/`. This is the same api as what used to be quandl so `https://www.quandl.com/api/v3/` should work too.\n",
    "\n",
    "Hint: We are looking for the `AFX_X` data on the `datasets/FSE/` dataset."
   ]
  },
  {
   "cell_type": "code",
   "execution_count": 3,
   "metadata": {},
   "outputs": [
    {
     "name": "stdout",
     "output_type": "stream",
     "text": [
      "{\n",
      "  \"dataset\": {\n",
      "    \"id\": 10095370,\n",
      "    \"dataset_code\": \"AFX_X\",\n",
      "    \"database_code\": \"FSE\",\n",
      "    \"name\": \"Carl Zeiss Meditec (AFX_X)\",\n",
      "    \"description\": \"Stock Prices for Carl Zeiss Meditec (2020-11-02) from the Frankfurt Stock Exchange.<br><br>Trading System: Xetra<br><br>ISIN: DE0005313704\",\n",
      "    \"refreshed_at\": \"2020-12-01T14:48:09.907Z\",\n",
      "    \"newest_available_date\": \"2020-12-01\",\n",
      "    \"oldest_available_date\": \"2000-06-07\",\n",
      "    \"column_names\": [\n",
      "      \"Date\",\n",
      "      \"Open\",\n",
      "      \"High\",\n",
      "      \"Low\",\n",
      "      \"Close\",\n",
      "      \"Change\",\n",
      "      \"Traded Volume\",\n",
      "      \"Turnover\",\n",
      "      \"Last Price of the Day\",\n",
      "      \"Daily Traded Units\",\n",
      "      \"Daily Turnover\"\n",
      "    ],\n",
      "    \"frequency\": \"daily\",\n",
      "    \"type\": \"Time Series\",\n",
      "    \"premium\": false,\n",
      "    \"limit\": null,\n",
      "    \"transform\": null,\n",
      "    \"column_index\": null,\n",
      "    \"start_date\": \"2017-09-06\",\n",
      "    \"end_date\": \"2017-09-06\",\n",
      "    \"data\": [\n",
      "      [\n",
      "        \"2017-09-06\",\n",
      "        42.66,\n",
      "        42.71,\n",
      "        42.34,\n",
      "        42.55,\n",
      "        null,\n",
      "        71006.0,\n",
      "        3020229.0,\n",
      "        null,\n",
      "        null,\n",
      "        null\n",
      "      ]\n",
      "    ],\n",
      "    \"collapse\": null,\n",
      "    \"order\": null,\n",
      "    \"database_id\": 6129\n",
      "  }\n",
      "}\n"
     ]
    }
   ],
   "source": [
    "# Now, call the Nasdaq API and pull out a small sample of the data (only one day) to get a glimpse\n",
    "# into the JSON structure that will be returned\n",
    "\n",
    "url= \"https://data.nasdaq.com/api/v3/datasets/FSE/AFX_X\"\n",
    "\n",
    "params = {'start_date' :'2017-09-06', 'end_date' : '2017-09-06', \"API_KEY\": API_KEY}\n",
    "response = requests.get(url, params=params)\n",
    "data = response.json()\n",
    "\n",
    "print(json.dumps(data, indent=2))"
   ]
  },
  {
   "cell_type": "code",
   "execution_count": 4,
   "metadata": {},
   "outputs": [],
   "source": [
    "# Inspect the JSON structure of the object you created, and take note of how nested it is,\n",
    "# as well as the overall structure"
   ]
  },
  {
   "cell_type": "markdown",
   "metadata": {},
   "source": [
    "These are your tasks for this mini project:\n",
    "\n",
    "1. Collect data from the Franfurt Stock Exchange, for the ticker AFX_X, for the whole year 2017 (keep in mind that the date format is YYYY-MM-DD).\n",
    "2. Convert the returned JSON object into a Python dictionary.\n",
    "3. Calculate what the highest and lowest opening prices were for the stock in this period.\n",
    "4. What was the largest change in any one day (based on High and Low price)?\n",
    "5. What was the largest change between any two days (based on Closing Price)?\n",
    "6. What was the average daily trading volume during this year?\n",
    "7. (Optional) What was the median trading volume during this year. (Note: you may need to implement your own function for calculating the median.)"
   ]
  },
  {
   "cell_type": "code",
   "execution_count": 5,
   "metadata": {},
   "outputs": [],
   "source": [
    "#Collect data from the Franfurt Stock Exchange, for the ticker AFX_X, for the whole year 2017 (keep in mind that the date format is YYYY-MM-DD).\n",
    "#Convert the returned JSON object into a Python dictionary.\n",
    "\n",
    "url= \"https://www.quandl.com/api/v3/datasets/FSE/AFX_X.json\"\n",
    "\n",
    "params = {'start_date' :'2017-01-01', 'end_date' : '2017-12-31', \"API_KEY\": API_KEY}\n",
    "response = requests.get(url, params=params)\n",
    "data = response.json()\n",
    "\n",
    "dataset = data['dataset']"
   ]
  },
  {
   "cell_type": "code",
   "execution_count": 6,
   "metadata": {},
   "outputs": [
    {
     "name": "stdout",
     "output_type": "stream",
     "text": [
      "[\n",
      "  {\n",
      "    \"Date\": \"2017-12-29\",\n",
      "    \"Open\": 51.76,\n",
      "    \"High\": 51.94,\n",
      "    \"Low\": 51.45,\n",
      "    \"Close\": 51.76,\n",
      "    \"Change\": null,\n",
      "    \"Traded Volume\": 34640.0,\n",
      "    \"Turnover\": 1792304.0,\n",
      "    \"Last Price of the Day\": null,\n",
      "    \"Daily Traded Units\": null,\n",
      "    \"Daily Turnover\": null\n",
      "  },\n",
      "  {\n",
      "    \"Date\": \"2017-12-28\",\n",
      "    \"Open\": 51.65,\n",
      "    \"High\": 51.82,\n",
      "    \"Low\": 51.43,\n",
      "    \"Close\": 51.6,\n",
      "    \"Change\": null,\n",
      "    \"Traded Volume\": 40660.0,\n",
      "    \"Turnover\": 2099024.0,\n",
      "    \"Last Price of the Day\": null,\n",
      "    \"Daily Traded Units\": null,\n",
      "    \"Daily Turnover\": null\n",
      "  },\n",
      "  {\n",
      "    \"Date\": \"2017-12-27\",\n",
      "    \"Open\": 51.45,\n",
      "    \"High\": 51.89,\n",
      "    \"Low\": 50.76,\n",
      "    \"Close\": 51.82,\n",
      "    \"Change\": null,\n",
      "    \"Traded Volume\": 57452.0,\n",
      "    \"Turnover\": 2957018.0,\n",
      "    \"Last Price of the Day\": null,\n",
      "    \"Daily Traded Units\": null,\n",
      "    \"Daily Turnover\": null\n",
      "  },\n",
      "  {\n",
      "    \"Date\": \"2017-12-22\",\n",
      "    \"Open\": 51.05,\n",
      "    \"High\": 51.5,\n",
      "    \"Low\": 50.92,\n",
      "    \"Close\": 51.32,\n",
      "    \"Change\": null,\n",
      "    \"Traded Volume\": 71165.0,\n",
      "    \"Turnover\": 3641949.0,\n",
      "    \"Last Price of the Day\": null,\n",
      "    \"Daily Traded Units\": null,\n",
      "    \"Daily Turnover\": null\n",
      "  },\n",
      "  {\n",
      "    \"Date\": \"2017-12-21\",\n",
      "    \"Open\": 51.16,\n",
      "    \"High\": 51.52,\n",
      "    \"Low\": 50.9,\n",
      "    \"Close\": 51.4,\n",
      "    \"Change\": null,\n",
      "    \"Traded Volume\": 120649.0,\n",
      "    \"Turnover\": 6179433.0,\n",
      "    \"Last Price of the Day\": null,\n",
      "    \"Daily Traded Units\": null,\n",
      "    \"Daily Turnover\": null\n",
      "  }\n",
      "]\n"
     ]
    }
   ],
   "source": [
    "column_names = dataset['column_names']\n",
    "data_rows = dataset['data']\n",
    "data_list = [dict(zip(column_names, row)) for row in data_rows]\n",
    "print(json.dumps(data_list[:5], indent=2))"
   ]
  },
  {
   "cell_type": "code",
   "execution_count": 7,
   "metadata": {},
   "outputs": [],
   "source": [
    "#Calculate what the highest and lowest opening prices were for the stock in this period.\n",
    "highest_open = float('-inf')\n",
    "lowest_open = float('inf')"
   ]
  },
  {
   "cell_type": "code",
   "execution_count": 8,
   "metadata": {},
   "outputs": [
    {
     "name": "stdout",
     "output_type": "stream",
     "text": [
      "Highest opening price in 2017: 53.11\n",
      "Lowest opeining proce in 2017: 34.0\n"
     ]
    }
   ],
   "source": [
    "for day_data in data_list:\n",
    "    open_price = day_data.get('Open')\n",
    "    if open_price is not None:\n",
    "        if open_price > highest_open:\n",
    "            highest_open = open_price\n",
    "        if open_price < lowest_open:\n",
    "            lowest_open = open_price\n",
    "            \n",
    "if lowest_open ==float('inf'):\n",
    "    lowest_open = 'NA'\n",
    "    \n",
    "print(f\"Highest opening price in 2017: {highest_open}\") \n",
    "print(f\"Lowest opeining proce in 2017: {lowest_open}\")      "
   ]
  },
  {
   "cell_type": "code",
   "execution_count": 9,
   "metadata": {},
   "outputs": [
    {
     "name": "stdout",
     "output_type": "stream",
     "text": [
      "Largest Change in any one day (High - Low) in 2017: 2.8100000000000023\n"
     ]
    }
   ],
   "source": [
    "#What was the largest change in any one day\n",
    "largest_single_day_change = 0\n",
    "\n",
    "for day_data in data_list:\n",
    "    high_price = day_data.get('High')\n",
    "    low_price = day_data.get('Low')\n",
    "    if high_price is not None and low_price is not None:\n",
    "        single_day_change = high_price - low_price\n",
    "        if single_day_change >  largest_single_day_change:\n",
    "            largest_single_day_change = single_day_change\n",
    "            \n",
    "print(f\"Largest Change in any one day (High - Low) in 2017: {largest_single_day_change}\")            \n"
   ]
  },
  {
   "cell_type": "code",
   "execution_count": 10,
   "metadata": {},
   "outputs": [
    {
     "name": "stdout",
     "output_type": "stream",
     "text": [
      "Largest change between any two days (based on Closing Price) in 2017: 2.559999999999995\n"
     ]
    }
   ],
   "source": [
    "#What was the largest change between any two days?\n",
    "\n",
    "largest_two_day_change = 0\n",
    "previous_close = None\n",
    "\n",
    "for day_data in data_list:\n",
    "    close_price = day_data.get('Close')\n",
    "    if close_price is not None:\n",
    "        if previous_close is not None:\n",
    "            two_day_change = abs(close_price - previous_close)\n",
    "            if two_day_change > largest_two_day_change:\n",
    "                largest_two_day_change = two_day_change\n",
    "    previous_close = close_price\n",
    "\n",
    "print(f\"Largest change between any two days (based on Closing Price) in 2017: {largest_two_day_change}\")\n"
   ]
  },
  {
   "cell_type": "code",
   "execution_count": 11,
   "metadata": {},
   "outputs": [
    {
     "name": "stdout",
     "output_type": "stream",
     "text": [
      "Average daily trading volume in 2017: 89124.33725490196\n"
     ]
    }
   ],
   "source": [
    "#What was the average daily trading volume during this year?\n",
    "total_trading_volume = 0\n",
    "trading_days = 0\n",
    "\n",
    "for day_data in data_list:\n",
    "    trading_volume = day_data.get('Traded Volume')\n",
    "    if trading_volume is not None:\n",
    "        total_trading_volume += trading_volume\n",
    "        trading_days += 1\n",
    "        \n",
    "if trading_days > 0:\n",
    "    average_trading_volume = total_trading_volume/ trading_days\n",
    "else:\n",
    "    average_trading_volume = 0\n",
    "\n",
    "print(f\"Average daily trading volume in 2017: {average_trading_volume}\")"
   ]
  },
  {
   "cell_type": "code",
   "execution_count": 12,
   "metadata": {},
   "outputs": [
    {
     "name": "stdout",
     "output_type": "stream",
     "text": [
      "Median trading volume in 2017: 76286.0\n"
     ]
    }
   ],
   "source": [
    "#(Optional) What was the median trading volume during this year. \n",
    "def calculate_median(values):\n",
    "    \n",
    "    sorted_values = sorted(values)\n",
    "    n = len(sorted_values)\n",
    "    \n",
    "    if n == 0:\n",
    "        return None\n",
    "    \n",
    "    midpoint = n // 2\n",
    "    if n % 2 == 1:\n",
    "        return sorted_values[midpoint]\n",
    "    else:\n",
    "        return (sorted_values[midpoint - 1] + sorted_values[midpoint]) / 2\n",
    "    \n",
    "    \n",
    "trading_volumes = []\n",
    "\n",
    "for day_data in data_list:\n",
    "    trading_volume = day_data.get('Traded Volume')\n",
    "    if trading_volume is not None:\n",
    "        trading_volumes.append(trading_volume)\n",
    "        \n",
    "median_trading_volume = calculate_median(trading_volumes)\n",
    "\n",
    "print(f\"Median trading volume in 2017: {median_trading_volume}\")"
   ]
  },
  {
   "cell_type": "code",
   "execution_count": null,
   "metadata": {},
   "outputs": [],
   "source": []
  }
 ],
 "metadata": {
  "interpreter": {
   "hash": "7635eb1b9d0fe97add78a7368b6b431c09bb8ad5c42e437d64abdd99821c31ae"
  },
  "kernelspec": {
   "display_name": "Python 3 (ipykernel)",
   "language": "python",
   "name": "python3"
  },
  "language_info": {
   "codemirror_mode": {
    "name": "ipython",
    "version": 3
   },
   "file_extension": ".py",
   "mimetype": "text/x-python",
   "name": "python",
   "nbconvert_exporter": "python",
   "pygments_lexer": "ipython3",
   "version": "3.11.7"
  }
 },
 "nbformat": 4,
 "nbformat_minor": 4
}
